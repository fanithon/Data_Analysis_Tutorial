{
 "cells": [
  {
   "attachments": {},
   "cell_type": "markdown",
   "metadata": {},
   "source": [
    "## Data 01 : 스타워즈(Starwars)\n",
    "- 스타워즈API (SWAP)의 데이터로 스타워즈에 등장하는 캐릭터들 특징 설명\n",
    "- Data from : 패스트캠퍼스 '한 번에 끝내는 데이터 분석 초격차 패키지 Online.'"
   ]
  },
  {
   "attachments": {},
   "cell_type": "markdown",
   "metadata": {},
   "source": [
    "## 1. 데이터 둘러보기"
   ]
  },
  {
   "cell_type": "code",
   "execution_count": 53,
   "metadata": {},
   "outputs": [
    {
     "name": "stderr",
     "output_type": "stream",
     "text": [
      "'sudo'��(��) ���� �Ǵ� �ܺ� ����, ������ �� �ִ� ���α׷�, �Ǵ�\n",
      "��ġ ������ �ƴմϴ�.\n",
      "'sudo'��(��) ���� �Ǵ� �ܺ� ����, ������ �� �ִ� ���α׷�, �Ǵ�\n",
      "��ġ ������ �ƴմϴ�.\n",
      "'rm'��(��) ���� �Ǵ� �ܺ� ����, ������ �� �ִ� ���α׷�, �Ǵ�\n",
      "��ġ ������ �ƴմϴ�.\n"
     ]
    }
   ],
   "source": [
    "# 한글 폰트 설정하기\n",
    "!sudo apt-get install -y fonts nanum\n",
    "!sudo fc-cache -fv\n",
    "!rm ~/. cache/matplotlib -rf"
   ]
  },
  {
   "cell_type": "code",
   "execution_count": 1,
   "metadata": {},
   "outputs": [],
   "source": [
    "# 기본 패키지 import\n",
    "import math\n",
    "import numpy as np\n",
    "import pandas as pd\n",
    "import seaborn as sns\n",
    "import matplotlib.pyplot as plt\n",
    "plt.rc('font', family='NanumBarunGothic') # 나눔바른고딕 폰트 가져오기\n",
    "\n",
    "plt.style.use('seaborn') #그래프 기본 설정\n",
    "sns.set(font_scale=1)\n",
    "\n",
    "import warnings # 경고 메시지 무시\n",
    "warnings.simplefilter(action='ignore', category=FutureWarning)"
   ]
  },
  {
   "cell_type": "code",
   "execution_count": 2,
   "metadata": {},
   "outputs": [],
   "source": [
    "# 데이터 불러오기\n",
    "sw = pd.read_csv('./Starwars.csv')"
   ]
  },
  {
   "cell_type": "code",
   "execution_count": 3,
   "metadata": {},
   "outputs": [
    {
     "data": {
      "text/html": [
       "<div>\n",
       "<style scoped>\n",
       "    .dataframe tbody tr th:only-of-type {\n",
       "        vertical-align: middle;\n",
       "    }\n",
       "\n",
       "    .dataframe tbody tr th {\n",
       "        vertical-align: top;\n",
       "    }\n",
       "\n",
       "    .dataframe thead th {\n",
       "        text-align: right;\n",
       "    }\n",
       "</style>\n",
       "<table border=\"1\" class=\"dataframe\">\n",
       "  <thead>\n",
       "    <tr style=\"text-align: right;\">\n",
       "      <th></th>\n",
       "      <th>name</th>\n",
       "      <th>height</th>\n",
       "      <th>mass</th>\n",
       "      <th>hair_color</th>\n",
       "      <th>skin_color</th>\n",
       "      <th>eye_color</th>\n",
       "      <th>birth_year</th>\n",
       "      <th>sex</th>\n",
       "      <th>gender</th>\n",
       "      <th>homeworld</th>\n",
       "      <th>species</th>\n",
       "    </tr>\n",
       "  </thead>\n",
       "  <tbody>\n",
       "    <tr>\n",
       "      <th>0</th>\n",
       "      <td>Luke Skywalker</td>\n",
       "      <td>172.0</td>\n",
       "      <td>77.0</td>\n",
       "      <td>blond</td>\n",
       "      <td>fair</td>\n",
       "      <td>blue</td>\n",
       "      <td>19.0</td>\n",
       "      <td>male</td>\n",
       "      <td>masculine</td>\n",
       "      <td>Tatooine</td>\n",
       "      <td>Human</td>\n",
       "    </tr>\n",
       "    <tr>\n",
       "      <th>1</th>\n",
       "      <td>C-3PO</td>\n",
       "      <td>167.0</td>\n",
       "      <td>75.0</td>\n",
       "      <td>NaN</td>\n",
       "      <td>gold</td>\n",
       "      <td>yellow</td>\n",
       "      <td>112.0</td>\n",
       "      <td>none</td>\n",
       "      <td>masculine</td>\n",
       "      <td>Tatooine</td>\n",
       "      <td>Droid</td>\n",
       "    </tr>\n",
       "    <tr>\n",
       "      <th>2</th>\n",
       "      <td>R2-D2</td>\n",
       "      <td>96.0</td>\n",
       "      <td>32.0</td>\n",
       "      <td>NaN</td>\n",
       "      <td>white, blue</td>\n",
       "      <td>red</td>\n",
       "      <td>33.0</td>\n",
       "      <td>none</td>\n",
       "      <td>masculine</td>\n",
       "      <td>Naboo</td>\n",
       "      <td>Droid</td>\n",
       "    </tr>\n",
       "    <tr>\n",
       "      <th>3</th>\n",
       "      <td>Darth Vader</td>\n",
       "      <td>202.0</td>\n",
       "      <td>136.0</td>\n",
       "      <td>none</td>\n",
       "      <td>white</td>\n",
       "      <td>yellow</td>\n",
       "      <td>41.9</td>\n",
       "      <td>male</td>\n",
       "      <td>masculine</td>\n",
       "      <td>Tatooine</td>\n",
       "      <td>Human</td>\n",
       "    </tr>\n",
       "    <tr>\n",
       "      <th>4</th>\n",
       "      <td>Leia Organa</td>\n",
       "      <td>150.0</td>\n",
       "      <td>49.0</td>\n",
       "      <td>brown</td>\n",
       "      <td>light</td>\n",
       "      <td>brown</td>\n",
       "      <td>19.0</td>\n",
       "      <td>female</td>\n",
       "      <td>feminine</td>\n",
       "      <td>Alderaan</td>\n",
       "      <td>Human</td>\n",
       "    </tr>\n",
       "  </tbody>\n",
       "</table>\n",
       "</div>"
      ],
      "text/plain": [
       "             name  height   mass hair_color   skin_color eye_color  \\\n",
       "0  Luke Skywalker   172.0   77.0      blond         fair      blue   \n",
       "1           C-3PO   167.0   75.0        NaN         gold    yellow   \n",
       "2           R2-D2    96.0   32.0        NaN  white, blue       red   \n",
       "3     Darth Vader   202.0  136.0       none        white    yellow   \n",
       "4     Leia Organa   150.0   49.0      brown        light     brown   \n",
       "\n",
       "   birth_year     sex     gender homeworld species  \n",
       "0        19.0    male  masculine  Tatooine   Human  \n",
       "1       112.0    none  masculine  Tatooine   Droid  \n",
       "2        33.0    none  masculine     Naboo   Droid  \n",
       "3        41.9    male  masculine  Tatooine   Human  \n",
       "4        19.0  female   feminine  Alderaan   Human  "
      ]
     },
     "execution_count": 3,
     "metadata": {},
     "output_type": "execute_result"
    }
   ],
   "source": [
    "# 불러온 데이터 확인하기\n",
    "sw.head()"
   ]
  },
  {
   "attachments": {},
   "cell_type": "markdown",
   "metadata": {},
   "source": [
    "### <Column 설명>\n",
    "- name : 이름\n",
    "- height : 키(cm)\n",
    "- mass : 몸무게(kg)\n",
    "- hair_color : 머리카락색\n",
    "- skin_color : 눈동자 색\n",
    "- birth_year : 생년\n",
    "- sex : 생물학적 성별\n",
    "- gender : 사회적 성별\n",
    "- homeworld : 고향\n",
    "- species : 종족"
   ]
  },
  {
   "attachments": {},
   "cell_type": "markdown",
   "metadata": {},
   "source": [
    "##### 범주형 변수 : 빈도 ( Frequency ) 계산 가능\n",
    "> name, hair_color, skin_color, eye_color, sex, gender, homeworld, species"
   ]
  },
  {
   "attachments": {},
   "cell_type": "markdown",
   "metadata": {},
   "source": [
    "##### 연속형 변수 : 평균, 표준편차, min/max 등 수치 계산 가능\n",
    "> heigth, mass, birth_year\n"
   ]
  },
  {
   "cell_type": "code",
   "execution_count": 4,
   "metadata": {},
   "outputs": [
    {
     "name": "stdout",
     "output_type": "stream",
     "text": [
      "<class 'pandas.core.frame.DataFrame'>\n",
      "RangeIndex: 87 entries, 0 to 86\n",
      "Data columns (total 11 columns):\n",
      " #   Column      Non-Null Count  Dtype  \n",
      "---  ------      --------------  -----  \n",
      " 0   name        87 non-null     object \n",
      " 1   height      81 non-null     float64\n",
      " 2   mass        59 non-null     float64\n",
      " 3   hair_color  82 non-null     object \n",
      " 4   skin_color  87 non-null     object \n",
      " 5   eye_color   87 non-null     object \n",
      " 6   birth_year  43 non-null     float64\n",
      " 7   sex         83 non-null     object \n",
      " 8   gender      83 non-null     object \n",
      " 9   homeworld   77 non-null     object \n",
      " 10  species     83 non-null     object \n",
      "dtypes: float64(3), object(8)\n",
      "memory usage: 7.6+ KB\n"
     ]
    }
   ],
   "source": [
    "# 컬럼 기본 정보 확인하기\n",
    "sw.info()"
   ]
  },
  {
   "cell_type": "code",
   "execution_count": 5,
   "metadata": {},
   "outputs": [
    {
     "data": {
      "text/html": [
       "<div>\n",
       "<style scoped>\n",
       "    .dataframe tbody tr th:only-of-type {\n",
       "        vertical-align: middle;\n",
       "    }\n",
       "\n",
       "    .dataframe tbody tr th {\n",
       "        vertical-align: top;\n",
       "    }\n",
       "\n",
       "    .dataframe thead th {\n",
       "        text-align: right;\n",
       "    }\n",
       "</style>\n",
       "<table border=\"1\" class=\"dataframe\">\n",
       "  <thead>\n",
       "    <tr style=\"text-align: right;\">\n",
       "      <th></th>\n",
       "      <th>height</th>\n",
       "      <th>mass</th>\n",
       "      <th>birth_year</th>\n",
       "    </tr>\n",
       "  </thead>\n",
       "  <tbody>\n",
       "    <tr>\n",
       "      <th>count</th>\n",
       "      <td>81.000000</td>\n",
       "      <td>59.000000</td>\n",
       "      <td>43.000000</td>\n",
       "    </tr>\n",
       "    <tr>\n",
       "      <th>mean</th>\n",
       "      <td>174.358025</td>\n",
       "      <td>97.311864</td>\n",
       "      <td>87.565116</td>\n",
       "    </tr>\n",
       "    <tr>\n",
       "      <th>std</th>\n",
       "      <td>34.770429</td>\n",
       "      <td>169.457163</td>\n",
       "      <td>154.691439</td>\n",
       "    </tr>\n",
       "    <tr>\n",
       "      <th>min</th>\n",
       "      <td>66.000000</td>\n",
       "      <td>15.000000</td>\n",
       "      <td>8.000000</td>\n",
       "    </tr>\n",
       "    <tr>\n",
       "      <th>25%</th>\n",
       "      <td>167.000000</td>\n",
       "      <td>55.600000</td>\n",
       "      <td>35.000000</td>\n",
       "    </tr>\n",
       "    <tr>\n",
       "      <th>50%</th>\n",
       "      <td>180.000000</td>\n",
       "      <td>79.000000</td>\n",
       "      <td>52.000000</td>\n",
       "    </tr>\n",
       "    <tr>\n",
       "      <th>75%</th>\n",
       "      <td>191.000000</td>\n",
       "      <td>84.500000</td>\n",
       "      <td>72.000000</td>\n",
       "    </tr>\n",
       "    <tr>\n",
       "      <th>max</th>\n",
       "      <td>264.000000</td>\n",
       "      <td>1358.000000</td>\n",
       "      <td>896.000000</td>\n",
       "    </tr>\n",
       "  </tbody>\n",
       "</table>\n",
       "</div>"
      ],
      "text/plain": [
       "           height         mass  birth_year\n",
       "count   81.000000    59.000000   43.000000\n",
       "mean   174.358025    97.311864   87.565116\n",
       "std     34.770429   169.457163  154.691439\n",
       "min     66.000000    15.000000    8.000000\n",
       "25%    167.000000    55.600000   35.000000\n",
       "50%    180.000000    79.000000   52.000000\n",
       "75%    191.000000    84.500000   72.000000\n",
       "max    264.000000  1358.000000  896.000000"
      ]
     },
     "execution_count": 5,
     "metadata": {},
     "output_type": "execute_result"
    }
   ],
   "source": [
    "# 연속형(수치) 데이터의 통계치 확인하기\n",
    "sw.describe()"
   ]
  },
  {
   "cell_type": "code",
   "execution_count": 7,
   "metadata": {},
   "outputs": [
    {
     "data": {
      "text/html": [
       "<div>\n",
       "<style scoped>\n",
       "    .dataframe tbody tr th:only-of-type {\n",
       "        vertical-align: middle;\n",
       "    }\n",
       "\n",
       "    .dataframe tbody tr th {\n",
       "        vertical-align: top;\n",
       "    }\n",
       "\n",
       "    .dataframe thead th {\n",
       "        text-align: right;\n",
       "    }\n",
       "</style>\n",
       "<table border=\"1\" class=\"dataframe\">\n",
       "  <thead>\n",
       "    <tr style=\"text-align: right;\">\n",
       "      <th></th>\n",
       "      <th>name</th>\n",
       "      <th>hair_color</th>\n",
       "      <th>skin_color</th>\n",
       "      <th>eye_color</th>\n",
       "      <th>sex</th>\n",
       "      <th>gender</th>\n",
       "      <th>homeworld</th>\n",
       "      <th>species</th>\n",
       "    </tr>\n",
       "  </thead>\n",
       "  <tbody>\n",
       "    <tr>\n",
       "      <th>count</th>\n",
       "      <td>87</td>\n",
       "      <td>82</td>\n",
       "      <td>87</td>\n",
       "      <td>87</td>\n",
       "      <td>83</td>\n",
       "      <td>83</td>\n",
       "      <td>77</td>\n",
       "      <td>83</td>\n",
       "    </tr>\n",
       "    <tr>\n",
       "      <th>unique</th>\n",
       "      <td>87</td>\n",
       "      <td>12</td>\n",
       "      <td>31</td>\n",
       "      <td>15</td>\n",
       "      <td>4</td>\n",
       "      <td>2</td>\n",
       "      <td>48</td>\n",
       "      <td>37</td>\n",
       "    </tr>\n",
       "    <tr>\n",
       "      <th>top</th>\n",
       "      <td>Luke Skywalker</td>\n",
       "      <td>none</td>\n",
       "      <td>fair</td>\n",
       "      <td>brown</td>\n",
       "      <td>male</td>\n",
       "      <td>masculine</td>\n",
       "      <td>Naboo</td>\n",
       "      <td>Human</td>\n",
       "    </tr>\n",
       "    <tr>\n",
       "      <th>freq</th>\n",
       "      <td>1</td>\n",
       "      <td>37</td>\n",
       "      <td>17</td>\n",
       "      <td>21</td>\n",
       "      <td>60</td>\n",
       "      <td>66</td>\n",
       "      <td>11</td>\n",
       "      <td>35</td>\n",
       "    </tr>\n",
       "  </tbody>\n",
       "</table>\n",
       "</div>"
      ],
      "text/plain": [
       "                  name hair_color skin_color eye_color   sex     gender  \\\n",
       "count               87         82         87        87    83         83   \n",
       "unique              87         12         31        15     4          2   \n",
       "top     Luke Skywalker       none       fair     brown  male  masculine   \n",
       "freq                 1         37         17        21    60         66   \n",
       "\n",
       "       homeworld species  \n",
       "count         77      83  \n",
       "unique        48      37  \n",
       "top        Naboo   Human  \n",
       "freq          11      35  "
      ]
     },
     "execution_count": 7,
     "metadata": {},
     "output_type": "execute_result"
    }
   ],
   "source": [
    "# 범주형 데이터의 통계치 확인하기\n",
    "sw.describe(include=np.object_)"
   ]
  },
  {
   "cell_type": "code",
   "execution_count": 10,
   "metadata": {},
   "outputs": [
    {
     "name": "stdout",
     "output_type": "stream",
     "text": [
      "Hair color: ['blond' nan 'none' 'brown' 'brown, grey' 'black' 'auburn, white'\n",
      " 'auburn, grey' 'white' 'grey' 'auburn' 'blonde' 'unknown']\n",
      "Skin color: ['fair' 'gold' 'white, blue' 'white' 'light' 'white, red' 'unknown'\n",
      " 'green' 'green-tan, brown' 'pale' 'metal' 'dark' 'brown mottle' 'brown'\n",
      " 'grey' 'mottled green' 'orange' 'blue, grey' 'grey, red' 'red' 'blue'\n",
      " 'grey, green, yellow' 'yellow' 'tan' 'fair, green, yellow' 'grey, blue'\n",
      " 'silver, red' 'green, grey' 'red, blue, white' 'brown, white' 'none']\n",
      "Eye color: ['blue' 'yellow' 'red' 'brown' 'blue-gray' 'black' 'orange' 'hazel' 'pink'\n",
      " 'unknown' 'red, blue' 'gold' 'green, yellow' 'white' 'dark']\n",
      "Sex: ['male' 'none' 'female' 'hermaphroditic' nan]\n",
      "Gender: ['masculine' 'feminine' nan]\n",
      "Home-world: ['Tatooine' 'Naboo' 'Alderaan' 'Stewjon' 'Eriadu' 'Kashyyyk' 'Corellia'\n",
      " 'Rodia' 'Nal Hutta' 'Bestine IV' nan 'Kamino' 'Trandosha' 'Socorro'\n",
      " 'Bespin' 'Mon Cala' 'Chandrila' 'Endor' 'Sullust' 'Cato Neimoidia'\n",
      " 'Coruscant' 'Toydaria' 'Malastare' 'Dathomir' 'Ryloth' 'Vulpter'\n",
      " 'Troiken' 'Tund' 'Haruun Kal' 'Cerea' 'Glee Anselm' 'Iridonia' 'Iktotch'\n",
      " 'Quermia' 'Dorin' 'Champala' 'Geonosis' 'Mirial' 'Serenno' 'Concord Dawn'\n",
      " 'Zolan' 'Ojom' 'Aleen Minor' 'Skako' 'Muunilinst' 'Shili' 'Kalee'\n",
      " 'Umbara' 'Utapau']\n",
      "Species: ['Human' 'Droid' 'Wookiee' 'Rodian' 'Hutt' \"Yoda's species\" 'Trandoshan'\n",
      " 'Mon Calamari' 'Ewok' 'Sullustan' 'Neimodian' 'Gungan' nan 'Toydarian'\n",
      " 'Dug' 'Zabrak' \"Twi'lek\" 'Vulptereen' 'Xexto' 'Toong' 'Cerean' 'Nautolan'\n",
      " 'Tholothian' 'Iktotchi' 'Quermian' 'Kel Dor' 'Chagrian' 'Geonosian'\n",
      " 'Mirialan' 'Clawdite' 'Besalisk' 'Kaminoan' 'Aleena' 'Skakoan' 'Muun'\n",
      " 'Togruta' 'Kaleesh' \"Pau'an\"]\n"
     ]
    }
   ],
   "source": [
    "# 범주형 데이터 컬럼 안에는 어떤 내용이 들어있는지 확인\n",
    "print('Hair color:', sw['hair_color'].unique())\n",
    "print('Skin color:', sw['skin_color'].unique())\n",
    "print('Eye color:', sw['eye_color'].unique())\n",
    "print('Sex:', sw['sex'].unique())\n",
    "print('Gender:', sw['gender'].unique())\n",
    "print('Home-world:', sw['homeworld'].unique())\n",
    "print('Species:', sw['species'].unique())\n",
    "# 범주가 적으면 범주 별 그래프를 그리기가 쉽다.\n",
    "#이 데이터에서는 sex, gender"
   ]
  },
  {
   "cell_type": "code",
   "execution_count": 29,
   "metadata": {},
   "outputs": [
    {
     "name": "stdout",
     "output_type": "stream",
     "text": [
      "총 데이터 개수 : 957\n",
      "총 결측치 수 : 105 = 전체 데이터의  10.971787% \n",
      "스타워즈에 등장하는 등장인물 수 :  87\n",
      "스타워즈에 등장하는 종족 수 :  37\n"
     ]
    }
   ],
   "source": [
    "# 데이터 내용을 간단하게 정리해서 출력하기\n",
    "print(\"총 데이터 개수 :\", sw.shape[0]*sw.shape[1])\n",
    "print(\"총 결측치 수 : {} = 전체 데이터의 {: 2f}% \".format(sw.isnull().sum().sum(),(sw.isnull().sum().sum()*100)/(sw.shape[0]*sw.shape[1])))\n",
    "print(\"스타워즈에 등장하는 등장인물 수 : \",sw['name'].nunique())\n",
    "print(\"스타워즈에 등장하는 종족 수 : \", sw['species'].nunique())"
   ]
  },
  {
   "attachments": {},
   "cell_type": "markdown",
   "metadata": {},
   "source": [
    "## 2. 데이터를 보고 질문 만들기\n",
    "- 스타워즈 캐릭터의 성별 비율은 ? \n",
    "- 성별에 따른 캐릭터의 신장 분포는 ?\n",
    "- 가장 뭐운 캐릭터와 가장 가벼운 캐릭터는 ? \n",
    "- 스타워즈 캐릭터의 키와 몸무게는 상관관계를 가질까 ?"
   ]
  },
  {
   "attachments": {},
   "cell_type": "markdown",
   "metadata": {},
   "source": [
    "## 3. 데이터 정비하기 ( 데이터 전처리 )"
   ]
  },
  {
   "attachments": {},
   "cell_type": "markdown",
   "metadata": {},
   "source": [
    "#### 3-1. 결측치 처리하기"
   ]
  },
  {
   "cell_type": "code",
   "execution_count": 30,
   "metadata": {},
   "outputs": [
    {
     "data": {
      "text/plain": [
       "name          False\n",
       "height         True\n",
       "mass           True\n",
       "hair_color     True\n",
       "skin_color    False\n",
       "eye_color     False\n",
       "birth_year     True\n",
       "sex            True\n",
       "gender         True\n",
       "homeworld      True\n",
       "species        True\n",
       "dtype: bool"
      ]
     },
     "execution_count": 30,
     "metadata": {},
     "output_type": "execute_result"
    }
   ],
   "source": [
    "# Null 값이 존재하는 컬럼 확인하기\n",
    "sw.isnull().any(axis=0)"
   ]
  },
  {
   "cell_type": "code",
   "execution_count": 31,
   "metadata": {},
   "outputs": [
    {
     "data": {
      "text/plain": [
       "name           0\n",
       "height         6\n",
       "mass          28\n",
       "hair_color     5\n",
       "skin_color     0\n",
       "eye_color      0\n",
       "birth_year    44\n",
       "sex            4\n",
       "gender         4\n",
       "homeworld     10\n",
       "species        4\n",
       "dtype: int64"
      ]
     },
     "execution_count": 31,
     "metadata": {},
     "output_type": "execute_result"
    }
   ],
   "source": [
    "#컬럼별로 Null 개수 확인하기\n",
    "sw.isnull().sum()"
   ]
  },
  {
   "cell_type": "code",
   "execution_count": 33,
   "metadata": {},
   "outputs": [
    {
     "data": {
      "text/html": [
       "<div>\n",
       "<style scoped>\n",
       "    .dataframe tbody tr th:only-of-type {\n",
       "        vertical-align: middle;\n",
       "    }\n",
       "\n",
       "    .dataframe tbody tr th {\n",
       "        vertical-align: top;\n",
       "    }\n",
       "\n",
       "    .dataframe thead th {\n",
       "        text-align: right;\n",
       "    }\n",
       "</style>\n",
       "<table border=\"1\" class=\"dataframe\">\n",
       "  <thead>\n",
       "    <tr style=\"text-align: right;\">\n",
       "      <th></th>\n",
       "      <th>name</th>\n",
       "      <th>height</th>\n",
       "      <th>mass</th>\n",
       "      <th>hair_color</th>\n",
       "      <th>skin_color</th>\n",
       "      <th>eye_color</th>\n",
       "      <th>birth_year</th>\n",
       "      <th>sex</th>\n",
       "      <th>gender</th>\n",
       "      <th>homeworld</th>\n",
       "      <th>species</th>\n",
       "    </tr>\n",
       "  </thead>\n",
       "  <tbody>\n",
       "    <tr>\n",
       "      <th>0</th>\n",
       "      <td>Luke Skywalker</td>\n",
       "      <td>172.0</td>\n",
       "      <td>77.0</td>\n",
       "      <td>blond</td>\n",
       "      <td>fair</td>\n",
       "      <td>blue</td>\n",
       "      <td>19.0</td>\n",
       "      <td>male</td>\n",
       "      <td>masculine</td>\n",
       "      <td>Tatooine</td>\n",
       "      <td>Human</td>\n",
       "    </tr>\n",
       "    <tr>\n",
       "      <th>1</th>\n",
       "      <td>C-3PO</td>\n",
       "      <td>167.0</td>\n",
       "      <td>75.0</td>\n",
       "      <td>NaN</td>\n",
       "      <td>gold</td>\n",
       "      <td>yellow</td>\n",
       "      <td>112.0</td>\n",
       "      <td>none</td>\n",
       "      <td>masculine</td>\n",
       "      <td>Tatooine</td>\n",
       "      <td>Droid</td>\n",
       "    </tr>\n",
       "    <tr>\n",
       "      <th>2</th>\n",
       "      <td>R2-D2</td>\n",
       "      <td>96.0</td>\n",
       "      <td>32.0</td>\n",
       "      <td>NaN</td>\n",
       "      <td>white, blue</td>\n",
       "      <td>red</td>\n",
       "      <td>33.0</td>\n",
       "      <td>none</td>\n",
       "      <td>masculine</td>\n",
       "      <td>Naboo</td>\n",
       "      <td>Droid</td>\n",
       "    </tr>\n",
       "    <tr>\n",
       "      <th>3</th>\n",
       "      <td>Darth Vader</td>\n",
       "      <td>202.0</td>\n",
       "      <td>136.0</td>\n",
       "      <td>none</td>\n",
       "      <td>white</td>\n",
       "      <td>yellow</td>\n",
       "      <td>41.9</td>\n",
       "      <td>male</td>\n",
       "      <td>masculine</td>\n",
       "      <td>Tatooine</td>\n",
       "      <td>Human</td>\n",
       "    </tr>\n",
       "    <tr>\n",
       "      <th>4</th>\n",
       "      <td>Leia Organa</td>\n",
       "      <td>150.0</td>\n",
       "      <td>49.0</td>\n",
       "      <td>brown</td>\n",
       "      <td>light</td>\n",
       "      <td>brown</td>\n",
       "      <td>19.0</td>\n",
       "      <td>female</td>\n",
       "      <td>feminine</td>\n",
       "      <td>Alderaan</td>\n",
       "      <td>Human</td>\n",
       "    </tr>\n",
       "  </tbody>\n",
       "</table>\n",
       "</div>"
      ],
      "text/plain": [
       "             name  height   mass hair_color   skin_color eye_color  \\\n",
       "0  Luke Skywalker   172.0   77.0      blond         fair      blue   \n",
       "1           C-3PO   167.0   75.0        NaN         gold    yellow   \n",
       "2           R2-D2    96.0   32.0        NaN  white, blue       red   \n",
       "3     Darth Vader   202.0  136.0       none        white    yellow   \n",
       "4     Leia Organa   150.0   49.0      brown        light     brown   \n",
       "\n",
       "   birth_year     sex     gender homeworld species  \n",
       "0        19.0    male  masculine  Tatooine   Human  \n",
       "1       112.0    none  masculine  Tatooine   Droid  \n",
       "2        33.0    none  masculine     Naboo   Droid  \n",
       "3        41.9    male  masculine  Tatooine   Human  \n",
       "4        19.0  female   feminine  Alderaan   Human  "
      ]
     },
     "execution_count": 33,
     "metadata": {},
     "output_type": "execute_result"
    }
   ],
   "source": [
    "# 어떤 컬럼의 결측치를 처리할 것인가?\n",
    "# hair_color, sex, gender, homeworld, species의 경우 개인 특성이므로 다른 값을 넣어주는 의미가 있다.\n",
    "# height, mass에서는 결측치를 0으로 처리한다.\n",
    "sw['height'].fillna(0, inplace=True)\n",
    "sw['mass'].fillna(0, inplace=True)\n",
    "sw.head()"
   ]
  },
  {
   "cell_type": "code",
   "execution_count": 35,
   "metadata": {},
   "outputs": [
    {
     "data": {
      "text/plain": [
       "name           0\n",
       "height         0\n",
       "mass           0\n",
       "hair_color     5\n",
       "skin_color     0\n",
       "eye_color      0\n",
       "birth_year    44\n",
       "sex            4\n",
       "gender         4\n",
       "homeworld     10\n",
       "species        4\n",
       "dtype: int64"
      ]
     },
     "execution_count": 35,
     "metadata": {},
     "output_type": "execute_result"
    }
   ],
   "source": [
    "# 결측치 처리 확인하기\n",
    "sw.isnull().sum()"
   ]
  },
  {
   "cell_type": "code",
   "execution_count": 43,
   "metadata": {},
   "outputs": [
    {
     "data": {
      "text/html": [
       "<div>\n",
       "<style scoped>\n",
       "    .dataframe tbody tr th:only-of-type {\n",
       "        vertical-align: middle;\n",
       "    }\n",
       "\n",
       "    .dataframe tbody tr th {\n",
       "        vertical-align: top;\n",
       "    }\n",
       "\n",
       "    .dataframe thead th {\n",
       "        text-align: right;\n",
       "    }\n",
       "</style>\n",
       "<table border=\"1\" class=\"dataframe\">\n",
       "  <thead>\n",
       "    <tr style=\"text-align: right;\">\n",
       "      <th></th>\n",
       "      <th>name</th>\n",
       "      <th>height</th>\n",
       "      <th>mass</th>\n",
       "      <th>hair_color</th>\n",
       "      <th>skin_color</th>\n",
       "      <th>eye_color</th>\n",
       "      <th>birth_year</th>\n",
       "      <th>sex</th>\n",
       "      <th>gender</th>\n",
       "      <th>homeworld</th>\n",
       "      <th>species</th>\n",
       "    </tr>\n",
       "  </thead>\n",
       "  <tbody>\n",
       "    <tr>\n",
       "      <th>1</th>\n",
       "      <td>C-3PO</td>\n",
       "      <td>167.0</td>\n",
       "      <td>75.0</td>\n",
       "      <td>NaN</td>\n",
       "      <td>gold</td>\n",
       "      <td>yellow</td>\n",
       "      <td>112.0</td>\n",
       "      <td>none</td>\n",
       "      <td>masculine</td>\n",
       "      <td>Tatooine</td>\n",
       "      <td>Droid</td>\n",
       "    </tr>\n",
       "    <tr>\n",
       "      <th>2</th>\n",
       "      <td>R2-D2</td>\n",
       "      <td>96.0</td>\n",
       "      <td>32.0</td>\n",
       "      <td>NaN</td>\n",
       "      <td>white, blue</td>\n",
       "      <td>red</td>\n",
       "      <td>33.0</td>\n",
       "      <td>none</td>\n",
       "      <td>masculine</td>\n",
       "      <td>Naboo</td>\n",
       "      <td>Droid</td>\n",
       "    </tr>\n",
       "    <tr>\n",
       "      <th>7</th>\n",
       "      <td>R5-D4</td>\n",
       "      <td>97.0</td>\n",
       "      <td>32.0</td>\n",
       "      <td>NaN</td>\n",
       "      <td>white, red</td>\n",
       "      <td>red</td>\n",
       "      <td>NaN</td>\n",
       "      <td>none</td>\n",
       "      <td>masculine</td>\n",
       "      <td>Tatooine</td>\n",
       "      <td>Droid</td>\n",
       "    </tr>\n",
       "    <tr>\n",
       "      <th>21</th>\n",
       "      <td>IG-88</td>\n",
       "      <td>200.0</td>\n",
       "      <td>140.0</td>\n",
       "      <td>none</td>\n",
       "      <td>metal</td>\n",
       "      <td>red</td>\n",
       "      <td>15.0</td>\n",
       "      <td>none</td>\n",
       "      <td>masculine</td>\n",
       "      <td>NaN</td>\n",
       "      <td>Droid</td>\n",
       "    </tr>\n",
       "    <tr>\n",
       "      <th>72</th>\n",
       "      <td>R4-P17</td>\n",
       "      <td>96.0</td>\n",
       "      <td>0.0</td>\n",
       "      <td>none</td>\n",
       "      <td>silver, red</td>\n",
       "      <td>red, blue</td>\n",
       "      <td>NaN</td>\n",
       "      <td>none</td>\n",
       "      <td>feminine</td>\n",
       "      <td>NaN</td>\n",
       "      <td>Droid</td>\n",
       "    </tr>\n",
       "    <tr>\n",
       "      <th>84</th>\n",
       "      <td>BB8</td>\n",
       "      <td>0.0</td>\n",
       "      <td>0.0</td>\n",
       "      <td>none</td>\n",
       "      <td>none</td>\n",
       "      <td>black</td>\n",
       "      <td>NaN</td>\n",
       "      <td>none</td>\n",
       "      <td>masculine</td>\n",
       "      <td>NaN</td>\n",
       "      <td>Droid</td>\n",
       "    </tr>\n",
       "  </tbody>\n",
       "</table>\n",
       "</div>"
      ],
      "text/plain": [
       "      name  height   mass hair_color   skin_color  eye_color  birth_year  \\\n",
       "1    C-3PO   167.0   75.0        NaN         gold     yellow       112.0   \n",
       "2    R2-D2    96.0   32.0        NaN  white, blue        red        33.0   \n",
       "7    R5-D4    97.0   32.0        NaN   white, red        red         NaN   \n",
       "21   IG-88   200.0  140.0       none        metal        red        15.0   \n",
       "72  R4-P17    96.0    0.0       none  silver, red  red, blue         NaN   \n",
       "84     BB8     0.0    0.0       none         none      black         NaN   \n",
       "\n",
       "     sex     gender homeworld species  \n",
       "1   none  masculine  Tatooine   Droid  \n",
       "2   none  masculine     Naboo   Droid  \n",
       "7   none  masculine  Tatooine   Droid  \n",
       "21  none  masculine       NaN   Droid  \n",
       "72  none   feminine       NaN   Droid  \n",
       "84  none  masculine       NaN   Droid  "
      ]
     },
     "execution_count": 43,
     "metadata": {},
     "output_type": "execute_result"
    }
   ],
   "source": [
    "# sex에 none도 있고 Nan도 있다?\n",
    "sw[sw['sex'] == 'none']"
   ]
  },
  {
   "cell_type": "code",
   "execution_count": 42,
   "metadata": {},
   "outputs": [
    {
     "data": {
      "text/html": [
       "<div>\n",
       "<style scoped>\n",
       "    .dataframe tbody tr th:only-of-type {\n",
       "        vertical-align: middle;\n",
       "    }\n",
       "\n",
       "    .dataframe tbody tr th {\n",
       "        vertical-align: top;\n",
       "    }\n",
       "\n",
       "    .dataframe thead th {\n",
       "        text-align: right;\n",
       "    }\n",
       "</style>\n",
       "<table border=\"1\" class=\"dataframe\">\n",
       "  <thead>\n",
       "    <tr style=\"text-align: right;\">\n",
       "      <th></th>\n",
       "      <th>name</th>\n",
       "      <th>height</th>\n",
       "      <th>mass</th>\n",
       "      <th>hair_color</th>\n",
       "      <th>skin_color</th>\n",
       "      <th>eye_color</th>\n",
       "      <th>birth_year</th>\n",
       "      <th>sex</th>\n",
       "      <th>gender</th>\n",
       "      <th>homeworld</th>\n",
       "      <th>species</th>\n",
       "    </tr>\n",
       "  </thead>\n",
       "  <tbody>\n",
       "    <tr>\n",
       "      <th>36</th>\n",
       "      <td>Ric Oli?</td>\n",
       "      <td>183.0</td>\n",
       "      <td>0.0</td>\n",
       "      <td>brown</td>\n",
       "      <td>fair</td>\n",
       "      <td>blue</td>\n",
       "      <td>NaN</td>\n",
       "      <td>NaN</td>\n",
       "      <td>NaN</td>\n",
       "      <td>Naboo</td>\n",
       "      <td>NaN</td>\n",
       "    </tr>\n",
       "    <tr>\n",
       "      <th>39</th>\n",
       "      <td>Quarsh Panaka</td>\n",
       "      <td>183.0</td>\n",
       "      <td>0.0</td>\n",
       "      <td>black</td>\n",
       "      <td>dark</td>\n",
       "      <td>brown</td>\n",
       "      <td>62.0</td>\n",
       "      <td>NaN</td>\n",
       "      <td>NaN</td>\n",
       "      <td>Naboo</td>\n",
       "      <td>NaN</td>\n",
       "    </tr>\n",
       "    <tr>\n",
       "      <th>79</th>\n",
       "      <td>Sly Moore</td>\n",
       "      <td>178.0</td>\n",
       "      <td>48.0</td>\n",
       "      <td>none</td>\n",
       "      <td>pale</td>\n",
       "      <td>white</td>\n",
       "      <td>NaN</td>\n",
       "      <td>NaN</td>\n",
       "      <td>NaN</td>\n",
       "      <td>Umbara</td>\n",
       "      <td>NaN</td>\n",
       "    </tr>\n",
       "    <tr>\n",
       "      <th>85</th>\n",
       "      <td>Captain Phasma</td>\n",
       "      <td>0.0</td>\n",
       "      <td>0.0</td>\n",
       "      <td>unknown</td>\n",
       "      <td>unknown</td>\n",
       "      <td>unknown</td>\n",
       "      <td>NaN</td>\n",
       "      <td>NaN</td>\n",
       "      <td>NaN</td>\n",
       "      <td>NaN</td>\n",
       "      <td>NaN</td>\n",
       "    </tr>\n",
       "  </tbody>\n",
       "</table>\n",
       "</div>"
      ],
      "text/plain": [
       "              name  height  mass hair_color skin_color eye_color  birth_year  \\\n",
       "36        Ric Oli?   183.0   0.0      brown       fair      blue         NaN   \n",
       "39   Quarsh Panaka   183.0   0.0      black       dark     brown        62.0   \n",
       "79       Sly Moore   178.0  48.0       none       pale     white         NaN   \n",
       "85  Captain Phasma     0.0   0.0    unknown    unknown   unknown         NaN   \n",
       "\n",
       "    sex gender homeworld species  \n",
       "36  NaN    NaN     Naboo     NaN  \n",
       "39  NaN    NaN     Naboo     NaN  \n",
       "79  NaN    NaN    Umbara     NaN  \n",
       "85  NaN    NaN       NaN     NaN  "
      ]
     },
     "execution_count": 42,
     "metadata": {},
     "output_type": "execute_result"
    }
   ],
   "source": [
    "sw[sw['sex'].isnull()]"
   ]
  },
  {
   "cell_type": "code",
   "execution_count": 44,
   "metadata": {},
   "outputs": [
    {
     "name": "stdout",
     "output_type": "stream",
     "text": [
      "Sex:  ['male' 'robot' 'female' 'hermaphroditic' nan]\n"
     ]
    },
    {
     "name": "stderr",
     "output_type": "stream",
     "text": [
      "C:\\Users\\hwan\\AppData\\Local\\Temp\\ipykernel_10572\\980417877.py:2: SettingWithCopyWarning: \n",
      "A value is trying to be set on a copy of a slice from a DataFrame\n",
      "\n",
      "See the caveats in the documentation: https://pandas.pydata.org/pandas-docs/stable/user_guide/indexing.html#returning-a-view-versus-a-copy\n",
      "  sw['sex'][(sw['sex']=='none')] = 'robot'\n"
     ]
    }
   ],
   "source": [
    "# sex = none 인 것들은 species = Droid이므로, 컬럼 내용을 바꾸자.\n",
    "sw['sex'][(sw['sex']=='none')] = 'robot'\n",
    "print('Sex: ',sw['sex'].unique())"
   ]
  },
  {
   "attachments": {},
   "cell_type": "markdown",
   "metadata": {},
   "source": [
    "## 4. EDA & Visualization"
   ]
  },
  {
   "attachments": {},
   "cell_type": "markdown",
   "metadata": {},
   "source": [
    "#### 4-1. 스타워즈 캐릭터들의 성별 비율"
   ]
  },
  {
   "cell_type": "code",
   "execution_count": 49,
   "metadata": {},
   "outputs": [
    {
     "data": {
      "text/plain": [
       "male              60\n",
       "female            16\n",
       "robot              6\n",
       "hermaphroditic     1\n",
       "Name: sex, dtype: int64"
      ]
     },
     "execution_count": 49,
     "metadata": {},
     "output_type": "execute_result"
    }
   ],
   "source": [
    "# 스타워즈 캐릭터의 성비( sex, gender) 는 ?\n",
    "sw['gender'].value_counts()\n",
    "sw['sex'].value_counts()"
   ]
  },
  {
   "cell_type": "code",
   "execution_count": 56,
   "metadata": {},
   "outputs": [
    {
     "data": {
      "image/png": "[encoded data removed]",
      "text/plain": [
       "<Figure size 1800x800 with 2 Axes>"
      ]
     },
     "metadata": {},
     "output_type": "display_data"
    }
   ],
   "source": [
    "f, ax = plt.subplots(1, 2, figsize=(18,8)) # 그래프 틀 정하기\n",
    "# sns.pieplot\n",
    "sw['gender'].value_counts().plot.pie(ax=ax[0], autopct='%1.0f%%', shadow=True) # 파이그래프 생성\n",
    "ax[0].set_title('Starwars: Gender', size=18) # 그래프 제목 지정\n",
    "ax[0].set_ylabel('') # y라벨 없애기\n",
    "\n",
    "# sns.countplot\n",
    "# 항목별 갯수를 세어주는 countplot\n",
    "# 알아서 해당 column을 구성하고 있는 value들을 구분하여 보여준다.\n",
    "# 차트 가로로 그리기 : x를 y로 변경하면 세로에서 가로 차트로 변경 가능\n",
    "sns.countplot(y='sex', data=sw, ax=ax[1])\n",
    "ax[1].set_title('Starwars: Sex', size=18) # 그래프 제목 지정\n",
    "\n",
    "plt.show()"
   ]
  },
  {
   "attachments": {},
   "cell_type": "markdown",
   "metadata": {},
   "source": [
    "#### 4-2. 스타워즈 캐릭터의 성별에 따른 신장 분포"
   ]
  },
  {
   "cell_type": "code",
   "execution_count": 57,
   "metadata": {},
   "outputs": [
    {
     "data": {
      "text/plain": [
       "count     87.000000\n",
       "mean     162.333333\n",
       "std       55.671726\n",
       "min        0.000000\n",
       "25%      164.000000\n",
       "50%      178.000000\n",
       "75%      190.500000\n",
       "max      264.000000\n",
       "Name: height, dtype: float64"
      ]
     },
     "execution_count": 57,
     "metadata": {},
     "output_type": "execute_result"
    }
   ],
   "source": [
    "# 스타워즈 캐릭터의 신장 확인하기\n",
    "# 연속형(수치) 데이터의 통계치 확인하기 : 최솟값과 최댓값\n",
    "sw['height'].describe()"
   ]
  },
  {
   "cell_type": "code",
   "execution_count": 59,
   "metadata": {},
   "outputs": [
    {
     "name": "stdout",
     "output_type": "stream",
     "text": [
      "Skewness: -1.760878\n",
      "Kurtosis: 2.927697\n"
     ]
    }
   ],
   "source": [
    "# skewness and kurosis 구하기\n",
    "# Skewness(왜도) : 데이터가 정규부포에서 한 쪽으로 치우쳐있는가?\n",
    "#                -3 < Skewneww < 3 사이의 값이면 기준에 부합한다.\n",
    "# Kurtosis(첨도) : 얼마나 뾰족한가 ( 데이터가 얼마나 평균 근처에 몰려있는가 ? )\n",
    "#                : 정규분포의 kurtosis = 0\n",
    "print(\"Skewness: %f\" % sw['height'].skew())\n",
    "print(\"Kurtosis: %f\" % sw['height'].kurt())"
   ]
  },
  {
   "cell_type": "code",
   "execution_count": 60,
   "metadata": {},
   "outputs": [
    {
     "data": {
      "text/html": [
       "<div>\n",
       "<style scoped>\n",
       "    .dataframe tbody tr th:only-of-type {\n",
       "        vertical-align: middle;\n",
       "    }\n",
       "\n",
       "    .dataframe tbody tr th {\n",
       "        vertical-align: top;\n",
       "    }\n",
       "\n",
       "    .dataframe thead th {\n",
       "        text-align: right;\n",
       "    }\n",
       "</style>\n",
       "<table border=\"1\" class=\"dataframe\">\n",
       "  <thead>\n",
       "    <tr style=\"text-align: right;\">\n",
       "      <th></th>\n",
       "      <th>name</th>\n",
       "      <th>height</th>\n",
       "      <th>mass</th>\n",
       "      <th>hair_color</th>\n",
       "      <th>skin_color</th>\n",
       "      <th>eye_color</th>\n",
       "      <th>birth_year</th>\n",
       "      <th>sex</th>\n",
       "      <th>gender</th>\n",
       "      <th>homeworld</th>\n",
       "      <th>species</th>\n",
       "    </tr>\n",
       "  </thead>\n",
       "  <tbody>\n",
       "    <tr>\n",
       "      <th>15</th>\n",
       "      <td>Jabba Desilijic Tiure</td>\n",
       "      <td>175.0</td>\n",
       "      <td>1358.0</td>\n",
       "      <td>NaN</td>\n",
       "      <td>green-tan, brown</td>\n",
       "      <td>orange</td>\n",
       "      <td>600.0</td>\n",
       "      <td>hermaphroditic</td>\n",
       "      <td>masculine</td>\n",
       "      <td>Nal Hutta</td>\n",
       "      <td>Hutt</td>\n",
       "    </tr>\n",
       "  </tbody>\n",
       "</table>\n",
       "</div>"
      ],
      "text/plain": [
       "                     name  height    mass hair_color        skin_color  \\\n",
       "15  Jabba Desilijic Tiure   175.0  1358.0        NaN  green-tan, brown   \n",
       "\n",
       "   eye_color  birth_year             sex     gender  homeworld species  \n",
       "15    orange       600.0  hermaphroditic  masculine  Nal Hutta    Hutt  "
      ]
     },
     "execution_count": 60,
     "metadata": {},
     "output_type": "execute_result"
    }
   ],
   "source": [
    "# 자웅동체(hermaphroditic) 캐릭터 (Jabba Desilijic Tiure)는 하나 뿐이므로 확률 분포를 구하는 것이 불가능\n",
    "sw[sw['sex']== 'hermaphroditic'].head()"
   ]
  },
  {
   "cell_type": "code",
   "execution_count": 67,
   "metadata": {},
   "outputs": [
    {
     "data": {
      "image/png": "[encoded data removed]",
      "text/plain": [
       "<Figure size 1600x500 with 2 Axes>"
      ]
     },
     "metadata": {},
     "output_type": "display_data"
    }
   ],
   "source": [
    "# 성별에 따른 스타워즈 캐릭터의 신장 분포 그래프\n",
    "# 자웅동체 캐릭터는 하나뿐이므로 확률 분포를 구하는 것이 불가능\n",
    "f, ax = plt.subplots(1, 2, figsize=(16,5))\n",
    "\n",
    "# sns.distplot\n",
    "sns.distplot(sw[sw['sex'] == 'male']['height'], ax=ax[0])\n",
    "sns.distplot(sw[sw['sex'] == 'female']['height'], ax=ax[0])\n",
    "sns.distplot(sw[sw['sex'] == 'robot']['height'], ax=ax[0])\n",
    "ax[0].legend(['male','female','robot'])\n",
    "\n",
    "# sns.kdeplot\n",
    "sns.kdeplot(sw[sw['gender'] == 'masculine']['height'], ax=ax[1])\n",
    "sns.kdeplot(sw[sw['gender'] == 'feminine']['height'], ax=ax[1])\n",
    "ax[1].legend(['masculine','feminine'])\n",
    "\n",
    "plt.show()"
   ]
  },
  {
   "attachments": {},
   "cell_type": "markdown",
   "metadata": {},
   "source": [
    "#### 4-3.가장 가벼운 캐릭터와 가장 무거운 캐릭터"
   ]
  },
  {
   "cell_type": "code",
   "execution_count": 68,
   "metadata": {},
   "outputs": [
    {
     "data": {
      "text/plain": [
       "15.0"
      ]
     },
     "execution_count": 68,
     "metadata": {},
     "output_type": "execute_result"
    }
   ],
   "source": [
    "# 몸무게가 가장 가벼운 캐릭터\n",
    "notz = sw[sw['mass'] != 0] # 몸무게가 0인 것은 제외\n",
    "min(notz['mass'])"
   ]
  },
  {
   "cell_type": "code",
   "execution_count": 69,
   "metadata": {},
   "outputs": [
    {
     "name": "stdout",
     "output_type": "stream",
     "text": [
      "['Ratts Tyerell']의 몸무게가 15.0 (으)로 가장 가볍다\n",
      "['Jabba Desilijic Tiure']의 몸무게가 1358.0 (으)로 가장 무겁다\n"
     ]
    }
   ],
   "source": [
    "# 데이터 내용 정리해서 출력하기\n",
    "print('{}의 몸무게가 {} (으)로 가장 가볍다'.format(notz[notz['mass'] == min(notz['mass'])]['name'].values, min(notz['mass'])))\n",
    "print('{}의 몸무게가 {} (으)로 가장 무겁다'.format(notz[notz['mass'] == max(notz['mass'])]['name'].values, max(notz['mass'])))"
   ]
  },
  {
   "attachments": {},
   "cell_type": "markdown",
   "metadata": {},
   "source": [
    "#### 4-4. 스타워즈 캐릭터의 종족 간 몸무게 비교"
   ]
  },
  {
   "cell_type": "code",
   "execution_count": 71,
   "metadata": {},
   "outputs": [
    {
     "data": {
      "text/html": [
       "<div>\n",
       "<style scoped>\n",
       "    .dataframe tbody tr th:only-of-type {\n",
       "        vertical-align: middle;\n",
       "    }\n",
       "\n",
       "    .dataframe tbody tr th {\n",
       "        vertical-align: top;\n",
       "    }\n",
       "\n",
       "    .dataframe thead th {\n",
       "        text-align: right;\n",
       "    }\n",
       "</style>\n",
       "<table border=\"1\" class=\"dataframe\">\n",
       "  <thead>\n",
       "    <tr style=\"text-align: right;\">\n",
       "      <th></th>\n",
       "      <th>mass</th>\n",
       "    </tr>\n",
       "    <tr>\n",
       "      <th>species</th>\n",
       "      <th></th>\n",
       "    </tr>\n",
       "  </thead>\n",
       "  <tbody>\n",
       "    <tr>\n",
       "      <th>Aleena</th>\n",
       "      <td>15.000000</td>\n",
       "    </tr>\n",
       "    <tr>\n",
       "      <th>Besalisk</th>\n",
       "      <td>102.000000</td>\n",
       "    </tr>\n",
       "    <tr>\n",
       "      <th>Cerean</th>\n",
       "      <td>82.000000</td>\n",
       "    </tr>\n",
       "    <tr>\n",
       "      <th>Chagrian</th>\n",
       "      <td>0.000000</td>\n",
       "    </tr>\n",
       "    <tr>\n",
       "      <th>Clawdite</th>\n",
       "      <td>55.000000</td>\n",
       "    </tr>\n",
       "    <tr>\n",
       "      <th>Droid</th>\n",
       "      <td>46.500000</td>\n",
       "    </tr>\n",
       "    <tr>\n",
       "      <th>Dug</th>\n",
       "      <td>40.000000</td>\n",
       "    </tr>\n",
       "    <tr>\n",
       "      <th>Ewok</th>\n",
       "      <td>20.000000</td>\n",
       "    </tr>\n",
       "    <tr>\n",
       "      <th>Geonosian</th>\n",
       "      <td>80.000000</td>\n",
       "    </tr>\n",
       "    <tr>\n",
       "      <th>Gungan</th>\n",
       "      <td>49.333333</td>\n",
       "    </tr>\n",
       "    <tr>\n",
       "      <th>Human</th>\n",
       "      <td>52.034286</td>\n",
       "    </tr>\n",
       "    <tr>\n",
       "      <th>Hutt</th>\n",
       "      <td>1358.000000</td>\n",
       "    </tr>\n",
       "    <tr>\n",
       "      <th>Iktotchi</th>\n",
       "      <td>0.000000</td>\n",
       "    </tr>\n",
       "    <tr>\n",
       "      <th>Kaleesh</th>\n",
       "      <td>159.000000</td>\n",
       "    </tr>\n",
       "    <tr>\n",
       "      <th>Kaminoan</th>\n",
       "      <td>44.000000</td>\n",
       "    </tr>\n",
       "    <tr>\n",
       "      <th>Kel Dor</th>\n",
       "      <td>80.000000</td>\n",
       "    </tr>\n",
       "    <tr>\n",
       "      <th>Mirialan</th>\n",
       "      <td>53.100000</td>\n",
       "    </tr>\n",
       "    <tr>\n",
       "      <th>Mon Calamari</th>\n",
       "      <td>83.000000</td>\n",
       "    </tr>\n",
       "    <tr>\n",
       "      <th>Muun</th>\n",
       "      <td>0.000000</td>\n",
       "    </tr>\n",
       "    <tr>\n",
       "      <th>Nautolan</th>\n",
       "      <td>87.000000</td>\n",
       "    </tr>\n",
       "    <tr>\n",
       "      <th>Neimodian</th>\n",
       "      <td>90.000000</td>\n",
       "    </tr>\n",
       "    <tr>\n",
       "      <th>Pau'an</th>\n",
       "      <td>80.000000</td>\n",
       "    </tr>\n",
       "    <tr>\n",
       "      <th>Quermian</th>\n",
       "      <td>0.000000</td>\n",
       "    </tr>\n",
       "    <tr>\n",
       "      <th>Rodian</th>\n",
       "      <td>74.000000</td>\n",
       "    </tr>\n",
       "    <tr>\n",
       "      <th>Skakoan</th>\n",
       "      <td>48.000000</td>\n",
       "    </tr>\n",
       "    <tr>\n",
       "      <th>Sullustan</th>\n",
       "      <td>68.000000</td>\n",
       "    </tr>\n",
       "    <tr>\n",
       "      <th>Tholothian</th>\n",
       "      <td>50.000000</td>\n",
       "    </tr>\n",
       "    <tr>\n",
       "      <th>Togruta</th>\n",
       "      <td>57.000000</td>\n",
       "    </tr>\n",
       "    <tr>\n",
       "      <th>Toong</th>\n",
       "      <td>65.000000</td>\n",
       "    </tr>\n",
       "    <tr>\n",
       "      <th>Toydarian</th>\n",
       "      <td>0.000000</td>\n",
       "    </tr>\n",
       "    <tr>\n",
       "      <th>Trandoshan</th>\n",
       "      <td>113.000000</td>\n",
       "    </tr>\n",
       "    <tr>\n",
       "      <th>Twi'lek</th>\n",
       "      <td>27.500000</td>\n",
       "    </tr>\n",
       "    <tr>\n",
       "      <th>Vulptereen</th>\n",
       "      <td>45.000000</td>\n",
       "    </tr>\n",
       "    <tr>\n",
       "      <th>Wookiee</th>\n",
       "      <td>124.000000</td>\n",
       "    </tr>\n",
       "    <tr>\n",
       "      <th>Xexto</th>\n",
       "      <td>0.000000</td>\n",
       "    </tr>\n",
       "    <tr>\n",
       "      <th>Yoda's species</th>\n",
       "      <td>17.000000</td>\n",
       "    </tr>\n",
       "    <tr>\n",
       "      <th>Zabrak</th>\n",
       "      <td>40.000000</td>\n",
       "    </tr>\n",
       "  </tbody>\n",
       "</table>\n",
       "</div>"
      ],
      "text/plain": [
       "                       mass\n",
       "species                    \n",
       "Aleena            15.000000\n",
       "Besalisk         102.000000\n",
       "Cerean            82.000000\n",
       "Chagrian           0.000000\n",
       "Clawdite          55.000000\n",
       "Droid             46.500000\n",
       "Dug               40.000000\n",
       "Ewok              20.000000\n",
       "Geonosian         80.000000\n",
       "Gungan            49.333333\n",
       "Human             52.034286\n",
       "Hutt            1358.000000\n",
       "Iktotchi           0.000000\n",
       "Kaleesh          159.000000\n",
       "Kaminoan          44.000000\n",
       "Kel Dor           80.000000\n",
       "Mirialan          53.100000\n",
       "Mon Calamari      83.000000\n",
       "Muun               0.000000\n",
       "Nautolan          87.000000\n",
       "Neimodian         90.000000\n",
       "Pau'an            80.000000\n",
       "Quermian           0.000000\n",
       "Rodian            74.000000\n",
       "Skakoan           48.000000\n",
       "Sullustan         68.000000\n",
       "Tholothian        50.000000\n",
       "Togruta           57.000000\n",
       "Toong             65.000000\n",
       "Toydarian          0.000000\n",
       "Trandoshan       113.000000\n",
       "Twi'lek           27.500000\n",
       "Vulptereen        45.000000\n",
       "Wookiee          124.000000\n",
       "Xexto              0.000000\n",
       "Yoda's species    17.000000\n",
       "Zabrak            40.000000"
      ]
     },
     "execution_count": 71,
     "metadata": {},
     "output_type": "execute_result"
    }
   ],
   "source": [
    "# Groupby로 스타워즈 종족 별 평균 몸무게를 계산\n",
    "weight = sw[['species', 'mass']].groupby(['species'], as_index=True).mean()\n",
    "weight"
   ]
  },
  {
   "cell_type": "code",
   "execution_count": 73,
   "metadata": {},
   "outputs": [
    {
     "data": {
      "image/png": "[encoded data removed]",
      "text/plain": [
       "<Figure size 800x550 with 1 Axes>"
      ]
     },
     "metadata": {},
     "output_type": "display_data"
    }
   ],
   "source": [
    "# 몸무게 많은 순으로 상위 10개 종족을 그래프로 출력\n",
    "weight['mass'].sort_values(ascending=False).head(10).plot.bar(color='red')\n",
    "\n",
    "plt.xticks(rotation=45)\n",
    "plt.show()"
   ]
  },
  {
   "cell_type": "code",
   "execution_count": 76,
   "metadata": {},
   "outputs": [
    {
     "data": {
      "image/png": "[encoded data removed]",
      "text/plain": [
       "<Figure size 1000x800 with 1 Axes>"
      ]
     },
     "metadata": {},
     "output_type": "display_data"
    }
   ],
   "source": [
    "# 스타워즈 종족별 몸무게 높은 순으로 그래프 출력\n",
    "f, ax = plt.subplots(1, 1, figsize=(10,8))\n",
    "\n",
    "colors = sns.color_palette('hls', len(weight['mass'])) # hls라는 컬러팔레트에 어떤 컬러를 입힐지 설정\n",
    "\n",
    "g = weight['mass'].sort_values(ascending=False).plot.bar(color = colors)\n",
    "g.set_xticklabels(g.get_xticklabels(),rotation=90) #라벨을 90도로 전환\n",
    "\n",
    "plt.show()"
   ]
  },
  {
   "attachments": {},
   "cell_type": "markdown",
   "metadata": {},
   "source": [
    "#### 4-5. 스타워즈 캐릭터의 무게-키 상관관계"
   ]
  },
  {
   "cell_type": "code",
   "execution_count": 80,
   "metadata": {},
   "outputs": [
    {
     "name": "stderr",
     "output_type": "stream",
     "text": [
      "C:\\Users\\hwan\\AppData\\Local\\Temp\\ipykernel_10572\\3125123058.py:5: UserWarning: Boolean Series key will be reindexed to match DataFrame index.\n",
      "  sw[~out1][~out2].shape\n"
     ]
    },
    {
     "data": {
      "text/plain": [
       "(58, 11)"
      ]
     },
     "execution_count": 80,
     "metadata": {},
     "output_type": "execute_result"
    }
   ],
   "source": [
    "# Hutt은 몸무게가 너무 이상치(Outlier)이므로 드롭시킨다.\n",
    "# 몸무게가 0인 것도 제외\n",
    "out1 = sw['species'].isin(['Hutt'])\n",
    "out2 = sw['mass'].isin([0])\n",
    "sw[~out1][~out2].shape"
   ]
  },
  {
   "cell_type": "code",
   "execution_count": 83,
   "metadata": {},
   "outputs": [
    {
     "name": "stderr",
     "output_type": "stream",
     "text": [
      "C:\\Users\\hwan\\AppData\\Local\\Temp\\ipykernel_10572\\2638965260.py:4: UserWarning: Boolean Series key will be reindexed to match DataFrame index.\n",
      "  sns.lmplot(data=sw[~out1][~out2], x='height', y='mass', hue='gender') # hue = gender로 나타내 서도 살펴보기\n"
     ]
    },
    {
     "data": {
      "image/png": "[encoded data removed]",
      "text/plain": [
       "<Figure size 624.125x500 with 1 Axes>"
      ]
     },
     "metadata": {},
     "output_type": "display_data"
    }
   ],
   "source": [
    "# 두 데이터 사이의 상관관계를 나타내주는 lmplot\n",
    "# replot은 점만 출력 \n",
    "\n",
    "sns.lmplot(data=sw[~out1][~out2], x='height', y='mass', hue='gender') # hue = gender로 나타내 서도 살펴보기\n",
    "sns.set_style(style='darkgrid') # 어두운 그리드로 배경 지정\n",
    "\n",
    "\n",
    "plt.show()"
   ]
  },
  {
   "attachments": {},
   "cell_type": "markdown",
   "metadata": {},
   "source": [
    "#### 5.Review\n",
    "- 스타워즈 데이터<br>\n",
    "총 데이터 개수 : 957<br>\n",
    "총 결측치 수 : 105 = 전체 데이터 10.97%<br>\n",
    "스타워즈에 등장하는 등장인물 수 : 87<br>\n",
    "스타워즈에 등장하는 종족 수 : 37<br>\n",
    "\n",
    "- 스타워즈 캐릭터의 성별 비율<br>\n",
    ": 남성/남성 gender를 가진 캐릭터가 80% 가량 차지<br>\n",
    "\n",
    "- 성별에 따른 캐릭터의 신장 분포는 ?<br>\n",
    ": 남성 태릭터의 키가 대체로 여성보다 크며, 로봇은 그보다 키가 작다.<br>\n",
    "\n",
    "- 가장 무거운 캐릭터와 가장 가벼운 캐릭터는?<br>\n",
    "['Ratts Tyerell']의 몸무게가 15.0 (으)로 가장 가볍다.<br>\n",
    "['Jabba Desilijic Tiure']의 몸무게가 1358.0 (으)로 가장 가볍다.<br>\n",
    "\n",
    "- 스타워즈 캐릭터의 키와 몸무게의 상관관계<br>\n",
    ": 인간과 다른 행성에 사는 종족이지만, 키와 몸무게는 대체로 비례관계에 있다. <br>"
   ]
  },
  {
   "cell_type": "code",
   "execution_count": null,
   "metadata": {},
   "outputs": [],
   "source": []
  },
  {
   "cell_type": "code",
   "execution_count": null,
   "metadata": {},
   "outputs": [],
   "source": []
  },
  {
   "cell_type": "code",
   "execution_count": null,
   "metadata": {},
   "outputs": [],
   "source": []
  }
 ],
 "metadata": {
  "kernelspec": {
   "display_name": "base",
   "language": "python",
   "name": "python3"
  },
  "language_info": {
   "codemirror_mode": {
    "name": "ipython",
    "version": 3
   },
   "file_extension": ".py",
   "mimetype": "text/x-python",
   "name": "python",
   "nbconvert_exporter": "python",
   "pygments_lexer": "ipython3",
   "version": "3.9.13"
  },
  "orig_nbformat": 4,
  "vscode": {
   "interpreter": {
    "hash": "3fe3f5d62d041f77b215375ff7785fc0b7dcbf1f25222033345ef2fca71a02b4"
   }
  }
 },
 "nbformat": 4,
 "nbformat_minor": 2
}
